{
 "cells": [
  {
   "cell_type": "markdown",
   "metadata": {},
   "source": [
    "# I am so happy to start python class with static type"
   ]
  },
  {
   "cell_type": "markdown",
   "metadata": {},
   "source": [
    "# Hello World"
   ]
  },
  {
   "cell_type": "code",
   "execution_count": 4,
   "metadata": {},
   "outputs": [
    {
     "name": "stdout",
     "output_type": "stream",
     "text": [
      "Hello Ahmed!\n"
     ]
    }
   ],
   "source": [
    "print(\"Hello Ahmed!\")"
   ]
  },
  {
   "cell_type": "markdown",
   "metadata": {},
   "source": [
    "# String"
   ]
  },
  {
   "cell_type": "code",
   "execution_count": 5,
   "metadata": {},
   "outputs": [
    {
     "name": "stdout",
     "output_type": "stream",
     "text": [
      "Ahmed Raza\n",
      "<class 'str'>\n",
      "2208058740272\n"
     ]
    }
   ],
   "source": [
    "name = \"Ahmed Raza\"\n",
    "print(name)\n",
    "print(type(name))\n",
    "print(id(name))"
   ]
  },
  {
   "cell_type": "code",
   "execution_count": 7,
   "metadata": {},
   "outputs": [
    {
     "name": "stdout",
     "output_type": "stream",
     "text": [
      "Ahmed Raza\n",
      "<class 'str'>\n",
      "2208058737456\n",
      "<generator object <genexpr> at 0x000002021A7FF1D0>\n"
     ]
    }
   ],
   "source": [
    "name = \"Ahmed Raza\"\n",
    "print(name) # print\n",
    "print(type(name)) # type\n",
    "print(id(name)) # physical address\n",
    "\n",
    "\n",
    "# yeh iski value ko consider kr raha hai\n",
    "\n",
    "print(( i for i in dir(name) if \"__\" not in i )) # methods and attributes"
   ]
  },
  {
   "cell_type": "code",
   "execution_count": 1,
   "metadata": {},
   "outputs": [
    {
     "name": "stdout",
     "output_type": "stream",
     "text": [
      "Ahmed Raza\n"
     ]
    }
   ],
   "source": [
    "name : str = \"Ahmed Raza\"\n",
    "print(name)"
   ]
  },
  {
   "cell_type": "code",
   "execution_count": 2,
   "metadata": {},
   "outputs": [
    {
     "name": "stdout",
     "output_type": "stream",
     "text": [
      "786\n"
     ]
    }
   ],
   "source": [
    "# (yeh error jupyter per nh ayega 'ipynb')\n",
    "name : str = 786\n",
    "print(name)"
   ]
  },
  {
   "cell_type": "code",
   "execution_count": 3,
   "metadata": {},
   "outputs": [
    {
     "name": "stdout",
     "output_type": "stream",
     "text": [
      "786\n",
      "<class 'int'>\n",
      "2599554452752\n",
      "<generator object <genexpr> at 0x0000025D4193DE50>\n"
     ]
    }
   ],
   "source": [
    "name : int = 786\n",
    "print(name) # print\n",
    "print(type(name)) # type\n",
    "print(id(name)) # physical address\n",
    "\n",
    "\n",
    "# yeh iski value ko consider kr raha hai\n",
    "\n",
    "print(( i for i in dir(name) if \"__\" not in i )) # methods and attributes"
   ]
  },
  {
   "cell_type": "code",
   "execution_count": 4,
   "metadata": {},
   "outputs": [
    {
     "name": "stdout",
     "output_type": "stream",
     "text": [
      "74.5\n",
      "<class 'float'>\n",
      "2599554463504\n",
      "<generator object <genexpr> at 0x0000025D4193EF60>\n"
     ]
    }
   ],
   "source": [
    "name : float = 74.5\n",
    "print(name) # print\n",
    "print(type(name)) # type\n",
    "print(id(name)) # physical address\n",
    "\n",
    "\n",
    "# yeh iski value ko consider kr raha hai\n",
    "\n",
    "print(( i for i in dir(name) if \"__\" not in i )) # methods and attributes"
   ]
  },
  {
   "cell_type": "code",
   "execution_count": 5,
   "metadata": {},
   "outputs": [
    {
     "name": "stdout",
     "output_type": "stream",
     "text": [
      "True\n",
      "<class 'bool'>\n",
      "140715100408528\n",
      "<generator object <genexpr> at 0x0000025D4193F100>\n"
     ]
    }
   ],
   "source": [
    "name : bool = True\n",
    "print(name) # print\n",
    "print(type(name)) # type\n",
    "print(id(name)) # physical address\n",
    "\n",
    "\n",
    "# yeh iski value ko consider kr raha hai\n",
    "\n",
    "print(( i for i in dir(name) if \"__\" not in i )) # methods and attributes"
   ]
  },
  {
   "cell_type": "code",
   "execution_count": 6,
   "metadata": {},
   "outputs": [
    {
     "name": "stdout",
     "output_type": "stream",
     "text": [
      "['Ahmed', 'Raza', 'Aemi']\n",
      "<class 'list'>\n",
      "2599555846848\n",
      "<generator object <genexpr> at 0x0000025D4193F100>\n"
     ]
    }
   ],
   "source": [
    "name : list[str] = ['Ahmed' ,'Raza' , 'Aemi']\n",
    "print(name) # print\n",
    "print(type(name)) # type\n",
    "print(id(name)) # physical address\n",
    "\n",
    "\n",
    "# yeh iski value ko consider kr raha hai\n",
    "\n",
    "print(( i for i in dir(name) if \"__\" not in i )) # methods and attributes"
   ]
  },
  {
   "cell_type": "code",
   "execution_count": 7,
   "metadata": {},
   "outputs": [
    {
     "name": "stdout",
     "output_type": "stream",
     "text": [
      "('Ahmed Raza', 786, 74.5)\n",
      "<class 'tuple'>\n",
      "2599555755328\n",
      "<generator object <genexpr> at 0x0000025D4193F2A0>\n"
     ]
    }
   ],
   "source": [
    "name : tuple[str,int,float] = (\"Ahmed Raza\" , 786 , 74.5)\n",
    "print(name) # print\n",
    "print(type(name)) # type\n",
    "print(id(name)) # physical address\n",
    "\n",
    "\n",
    "# yeh iski value ko consider kr raha hai\n",
    "\n",
    "print(( i for i in dir(name) if \"__\" not in i )) # methods and attributes"
   ]
  }
 ],
 "metadata": {
  "kernelspec": {
   "display_name": "python12",
   "language": "python",
   "name": "python3"
  },
  "language_info": {
   "codemirror_mode": {
    "name": "ipython",
    "version": 3
   },
   "file_extension": ".py",
   "mimetype": "text/x-python",
   "name": "python",
   "nbconvert_exporter": "python",
   "pygments_lexer": "ipython3",
   "version": "3.12.0"
  }
 },
 "nbformat": 4,
 "nbformat_minor": 2
}
