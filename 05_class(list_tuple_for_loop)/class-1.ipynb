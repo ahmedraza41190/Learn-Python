{
 "cells": [
  {
   "cell_type": "markdown",
   "metadata": {},
   "source": [
    "# List\n",
    "\n",
    "* iteration operation with loop\n",
    "* apply any operation on element"
   ]
  },
  {
   "cell_type": "code",
   "execution_count": 1,
   "metadata": {},
   "outputs": [
    {
     "name": "stdout",
     "output_type": "stream",
     "text": [
      "['Sir Zia', 'Muhammad Qasim', 'DR Noman']\n"
     ]
    }
   ],
   "source": [
    "names : list[str] = ['Sir Zia',\"Muhammad Qasim\",\"DR Noman\"]\n",
    "print(names)"
   ]
  },
  {
   "cell_type": "code",
   "execution_count": 3,
   "metadata": {},
   "outputs": [
    {
     "name": "stdout",
     "output_type": "stream",
     "text": [
      "Sir Zia\n",
      "Muhammad Qasim\n",
      "DR Noman\n"
     ]
    }
   ],
   "source": [
    "# Python Loop\n",
    "\n",
    "names:list[str] = ['Sir Zia', \"Muhammad Qasim\", \"DR Noman\"]\n",
    "\n",
    "for name in names:\n",
    "    print(name) \n",
    "\n",
    "# Sir zia (again loop)\n",
    "# \"Muhammad Qasim\" (again loop)\n",
    "# DR Noman"
   ]
  },
  {
   "cell_type": "code",
   "execution_count": 4,
   "metadata": {},
   "outputs": [
    {
     "name": "stdout",
     "output_type": "stream",
     "text": [
      "Sir Zia\n",
      "Muhammad Qasim\n",
      "DR Noman\n"
     ]
    }
   ],
   "source": [
    "# Python old loop\n",
    "\n",
    "names = ['Sir Zia', \"Muhammad Qasim\", \"DR Noman\"]\n",
    "\n",
    "i:int = 0 # counter = 0\n",
    "\n",
    "while i<len(names): # names length =3\n",
    "    print(names[i])\n",
    "    i += 1"
   ]
  },
  {
   "cell_type": "code",
   "execution_count": 5,
   "metadata": {},
   "outputs": [
    {
     "name": "stdout",
     "output_type": "stream",
     "text": [
      "Sir Zia\n",
      "Muhammad Qasim\n",
      "DR Noman\n"
     ]
    }
   ],
   "source": [
    "names:list[str] = ['Sir Zia', \"Muhammad Qasim\", \"DR Noman\"]\n",
    "\n",
    "for name in names:\n",
    "    print(name)"
   ]
  },
  {
   "cell_type": "code",
   "execution_count": 6,
   "metadata": {},
   "outputs": [
    {
     "name": "stdout",
     "output_type": "stream",
     "text": [
      "Welcome Dear Tacher Sir Zia\n",
      "Welcome Dear Tacher Muhammad Qasim\n",
      "Welcome Dear Tacher Dr Noman\n"
     ]
    }
   ],
   "source": [
    "for name in names:\n",
    "    print(f'Welcome Dear Tacher {name.title()}')"
   ]
  },
  {
   "cell_type": "code",
   "execution_count": 10,
   "metadata": {},
   "outputs": [
    {
     "name": "stdout",
     "output_type": "stream",
     "text": [
      "Welcome Dear Tacher Sir Zia\n",
      "PIAIC Gen AI Team\n",
      "\n",
      "Welcome Dear Tacher Muhammad Qasim\n",
      "PIAIC Gen AI Team\n",
      "\n",
      "Welcome Dear Tacher Dr Noman\n",
      "PIAIC Gen AI Team\n",
      "\n"
     ]
    }
   ],
   "source": [
    "names:list[str] = ['Sir Zia', \"Muhammad Qasim\", \"DR Noman\"]\n",
    "\n",
    "# loop start {\n",
    "for name in names:\n",
    "    print(f'Welcome Dear Tacher {name.title()}')\n",
    "    print(\"PIAIC Gen AI Team\\n\")\n",
    "# loop end }"
   ]
  },
  {
   "cell_type": "code",
   "execution_count": 11,
   "metadata": {},
   "outputs": [
    {
     "name": "stdout",
     "output_type": "stream",
     "text": [
      "Welcome Dear Tacher Sir Zia\n",
      "PIAIC Gen AI Team\n",
      "\n",
      "Welcome Dear Tacher Muhammad Qasim\n",
      "PIAIC Gen AI Team\n",
      "\n",
      "Welcome Dear Tacher Dr Noman\n",
      "PIAIC Gen AI Team\n",
      "\n",
      "Pakistan zinda bad\n"
     ]
    }
   ],
   "source": [
    "names:list[str] = ['Sir Zia', \"Muhammad Qasim\", \"DR Noman\"]\n",
    "\n",
    "# loop start {\n",
    "for name in names:\n",
    "    print(f'Welcome Dear Tacher {name.title()}')\n",
    "    print(\"PIAIC Gen AI Team\\n\")\n",
    "# loop end }\n",
    "\n",
    "# (Aghar ap space dogay tu woh loop mei print hoga or aghar ap space nh dogay tu woh loop se bahaar hojayega)\n",
    "print(\"Pakistan zinda bad\")"
   ]
  },
  {
   "cell_type": "code",
   "execution_count": 12,
   "metadata": {},
   "outputs": [
    {
     "name": "stdout",
     "output_type": "stream",
     "text": [
      "Welcome Dear Tacher Muhammad Qasim\n",
      "PIAIC Gen AI Team\n",
      "\n",
      "Welcome Dear Tacher Dr Noman\n",
      "PIAIC Gen AI Team\n",
      "\n",
      "Pakistan zinda bad\n"
     ]
    }
   ],
   "source": [
    "# Add slicing in loop\n",
    "\n",
    "#                      0               1           2\n",
    "names:list[str] = ['Sir Zia', \"Muhammad Qasim\", \"DR Noman\"]\n",
    "#                     -3               -2         -1\n",
    "\n",
    "for name in names[-2:]:  # (start : end) (left to right)\n",
    "    print(f'Welcome Dear Tacher {name.title()}')\n",
    "    print(\"PIAIC Gen AI Team\\n\")\n",
    "\n",
    "print(\"Pakistan zinda bad\")"
   ]
  },
  {
   "cell_type": "code",
   "execution_count": 20,
   "metadata": {},
   "outputs": [
    {
     "name": "stdout",
     "output_type": "stream",
     "text": [
      "Welcome Dear Tacher DR NOMAN\n",
      "PIAIC Gen AI Team\n",
      "\n",
      "Welcome Dear Tacher MUHAMMAD QASIM\n",
      "PIAIC Gen AI Team\n",
      "\n",
      "Welcome Dear Tacher SIR ZIA\n",
      "PIAIC Gen AI Team\n",
      "\n",
      "Pakistan zinda bad\n",
      "\n"
     ]
    }
   ],
   "source": [
    "# Add slicing in loop\n",
    "\n",
    "#                      0               1           2\n",
    "names:list[str] = ['Sir Zia', \"Muhammad Qasim\", \"DR Noman\"]\n",
    "#                     -3               -2         -1\n",
    "\n",
    "for name in names[::-1]: # (start : end : step) (right to left because step is '-1')\n",
    "    print(f'Welcome Dear Tacher {name.upper()}')\n",
    "    print(\"PIAIC Gen AI Team\\n\")\n",
    "    \n",
    "print(\"Pakistan zinda bad\\n\")"
   ]
  },
  {
   "cell_type": "code",
   "execution_count": 18,
   "metadata": {},
   "outputs": [
    {
     "name": "stdout",
     "output_type": "stream",
     "text": [
      "('qasim', '123')\n",
      "('sirzia', '345')\n",
      "('ikhlas', '789')\n"
     ]
    }
   ],
   "source": [
    "data_base : list[tuple[str,str]] = [(\"qasim\",'123'),\n",
    "                                    (\"sirzia\",'345'),\n",
    "                                    ('ikhlas','789')\n",
    "                                    ]\n",
    "\n",
    "for row in data_base:\n",
    "    print(row)"
   ]
  },
  {
   "cell_type": "code",
   "execution_count": 21,
   "metadata": {},
   "outputs": [
    {
     "name": "stdout",
     "output_type": "stream",
     "text": [
      "qasim 123\n",
      "sirzia 345\n",
      "Ahmed 786\n"
     ]
    }
   ],
   "source": [
    "data_base : list[tuple[str,str]] = [(\"qasim\",'123'),\n",
    "                                    (\"sirzia\",'345'),\n",
    "                                    ('Ahmed','786')\n",
    "                                    ]\n",
    "\n",
    "for row in data_base:\n",
    "    user, password = row\n",
    "    print(user, password)"
   ]
  },
  {
   "cell_type": "code",
   "execution_count": 22,
   "metadata": {},
   "outputs": [
    {
     "name": "stdout",
     "output_type": "stream",
     "text": [
      "Pakistan zinda bad\n"
     ]
    }
   ],
   "source": [
    "input_user : str = input(\"Enter user name\")\n",
    "print(input_user)"
   ]
  },
  {
   "cell_type": "code",
   "execution_count": 23,
   "metadata": {},
   "outputs": [
    {
     "name": "stdout",
     "output_type": "stream",
     "text": [
      "Not found or Invalid user name\n"
     ]
    }
   ],
   "source": [
    "# if and else (condition)\n",
    "\n",
    "data_base : list[tuple[str,str]] = [(\"qasim\",'123'),\n",
    "                                    (\"sirzia\",'345'),\n",
    "                                    ('Ahmed','786')\n",
    "                                    ]\n",
    "input_user : str = input(\"Enter user name\") # Raza (not found in list)\n",
    "input_password : str = input(\"Enter user password\") # 786 (not found in list)\n",
    "\n",
    "# user , password = (\"qasim\",'123')\n",
    "# user = name[0]\n",
    "# password = name[1]\n",
    "\n",
    "for row in data_base:    #  name  ,  pass\n",
    "    user, password = row # (\"qasim\",'123')\n",
    "    if input_user == user and input_password == password:\n",
    "        print(f\"Valid User {user}\")\n",
    "        break\n",
    "else:\n",
    "    print(\"Not found or Invalid user name\")\n",
    "\n",
    "# Not found or Invalid user name "
   ]
  },
  {
   "cell_type": "code",
   "execution_count": 24,
   "metadata": {},
   "outputs": [
    {
     "name": "stdout",
     "output_type": "stream",
     "text": [
      "Valid User Ahmed\n"
     ]
    }
   ],
   "source": [
    "# if and else (condition)\n",
    "\n",
    "data_base : list[tuple[str,str]] = [(\"qasim\",'123'),\n",
    "                                    (\"sirzia\",'345'),\n",
    "                                    ('Ahmed','786')\n",
    "                                    ]\n",
    "input_user : str = input(\"Enter user name\") # Ahmed (found in list)\n",
    "input_password : str = input(\"Enter user password\") # 786 (found in list)\n",
    "\n",
    "# user , password = (\"qasim\",'123')\n",
    "# user = name[0]\n",
    "# password = name[1]\n",
    "\n",
    "for row in data_base:    #  name  ,  pass\n",
    "    user, password = row # (\"qasim\",'123')\n",
    "    if input_user == user and input_password == password:\n",
    "        print(f\"Valid User {user}\")\n",
    "        break\n",
    "else:\n",
    "    print(\"Not found or Invalid user name\")\n",
    "\n",
    "# Valid User"
   ]
  },
  {
   "cell_type": "code",
   "execution_count": 25,
   "metadata": {},
   "outputs": [
    {
     "name": "stdout",
     "output_type": "stream",
     "text": [
      "Sir Zia\n",
      "Muhammad Qasim\n",
      "DR Noman\n",
      "Hello world\n"
     ]
    }
   ],
   "source": [
    "# Problem\n",
    "\n",
    "names:list[str] = ['Sir Zia', \"Muhammad Qasim\", \"DR Noman\"]\n",
    "\n",
    "for name in names:\n",
    "    print(name)\n",
    "else:\n",
    "    print(\"Hello world\")"
   ]
  },
  {
   "cell_type": "code",
   "execution_count": 26,
   "metadata": {},
   "outputs": [
    {
     "name": "stdout",
     "output_type": "stream",
     "text": [
      "Sir Zia\n"
     ]
    }
   ],
   "source": [
    "names:list[str] = ['Sir Zia', \"Muhammad Qasim\", \"DR Noman\"]\n",
    "\n",
    "for name in names:\n",
    "    print(name)\n",
    "    break\n",
    "else:\n",
    "    print(\"Hello world\")"
   ]
  },
  {
   "cell_type": "code",
   "execution_count": 27,
   "metadata": {},
   "outputs": [
    {
     "name": "stdout",
     "output_type": "stream",
     "text": [
      "Sir Zia\n",
      "Hello world\n"
     ]
    }
   ],
   "source": [
    "# Problem\n",
    "\n",
    "names:list[str] = ['Sir Zia', \"Muhammad Qasim\", \"DR Noman\"]\n",
    "\n",
    "for name in names:\n",
    "    print(name)\n",
    "    break\n",
    "    \n",
    "print(\"Hello world\")\n",
    "    "
   ]
  },
  {
   "cell_type": "code",
   "execution_count": 28,
   "metadata": {},
   "outputs": [
    {
     "ename": "IndentationError",
     "evalue": "expected an indented block after 'for' statement on line 3 (3470444750.py, line 4)",
     "output_type": "error",
     "traceback": [
      "\u001b[1;36m  Cell \u001b[1;32mIn[28], line 4\u001b[1;36m\u001b[0m\n\u001b[1;33m    print(name)\u001b[0m\n\u001b[1;37m    ^\u001b[0m\n\u001b[1;31mIndentationError\u001b[0m\u001b[1;31m:\u001b[0m expected an indented block after 'for' statement on line 3\n"
     ]
    }
   ],
   "source": [
    "names:list[str] = ['Sir Zia', \"Muhammad Qasim\", \"DR Noman\"]\n",
    "\n",
    "for name in names:\n",
    "print(name) # error because 'space' nh diya\n"
   ]
  },
  {
   "cell_type": "code",
   "execution_count": 30,
   "metadata": {},
   "outputs": [
    {
     "ename": "SyntaxError",
     "evalue": "expected ':' (3323869817.py, line 3)",
     "output_type": "error",
     "traceback": [
      "\u001b[1;36m  Cell \u001b[1;32mIn[30], line 3\u001b[1;36m\u001b[0m\n\u001b[1;33m    for name in names\u001b[0m\n\u001b[1;37m                     ^\u001b[0m\n\u001b[1;31mSyntaxError\u001b[0m\u001b[1;31m:\u001b[0m expected ':'\n"
     ]
    }
   ],
   "source": [
    "names:list[str] = ['Sir Zia', \"Muhammad Qasim\", \"DR Noman\"]\n",
    "\n",
    "for name in names\n",
    "    print(name) # error because ':' nh diya\n"
   ]
  },
  {
   "cell_type": "code",
   "execution_count": 35,
   "metadata": {},
   "outputs": [
    {
     "name": "stdout",
     "output_type": "stream",
     "text": [
      "Alice, that was a great trick!\n",
      "David, that was a great trick!\n",
      "Carolina, that was a great trick!\n",
      "I can't wait to see your next trick, Carolina.\n",
      "\n"
     ]
    }
   ],
   "source": [
    "magicians: list[str] = ['alice', 'david', 'carolina']\n",
    "for magician in magicians:\n",
    "    print(f\"{magician.title()}, that was a great trick!\")\n",
    "    \n",
    "# alice (again loop)\n",
    "# david (again loop)\n",
    "# carolina\n",
    "\n",
    "print(f\"I can't wait to see your next trick, {magician.title()}.\\n\") # carolina (beacuse loop mei last value 'carolina' hai)"
   ]
  },
  {
   "cell_type": "code",
   "execution_count": 36,
   "metadata": {},
   "outputs": [
    {
     "ename": "IndentationError",
     "evalue": "unexpected indent (483696993.py, line 2)",
     "output_type": "error",
     "traceback": [
      "\u001b[1;36m  Cell \u001b[1;32mIn[36], line 2\u001b[1;36m\u001b[0m\n\u001b[1;33m    print(message)\u001b[0m\n\u001b[1;37m    ^\u001b[0m\n\u001b[1;31mIndentationError\u001b[0m\u001b[1;31m:\u001b[0m unexpected indent\n"
     ]
    }
   ],
   "source": [
    "message = \"Hello Python world!\" \n",
    "    print(message)"
   ]
  },
  {
   "cell_type": "code",
   "execution_count": 37,
   "metadata": {},
   "outputs": [
    {
     "ename": "IndentationError",
     "evalue": "unexpected indent (1223476688.py, line 2)",
     "output_type": "error",
     "traceback": [
      "\u001b[1;36m  Cell \u001b[1;32mIn[37], line 2\u001b[1;36m\u001b[0m\n\u001b[1;33m    print(message)\u001b[0m\n\u001b[1;37m    ^\u001b[0m\n\u001b[1;31mIndentationError\u001b[0m\u001b[1;31m:\u001b[0m unexpected indent\n"
     ]
    }
   ],
   "source": [
    "message = \"Hello Python world!\" \n",
    " print(message)"
   ]
  },
  {
   "cell_type": "code",
   "execution_count": 41,
   "metadata": {},
   "outputs": [
    {
     "name": "stdout",
     "output_type": "stream",
     "text": [
      "Alice, that was a great trick!\n",
      "I can't wait to see your next trick, Alice.\n",
      "Thank you everyone, that was a great magic show!\n",
      "\n",
      "David, that was a great trick!\n",
      "I can't wait to see your next trick, David.\n",
      "Thank you everyone, that was a great magic show!\n",
      "\n",
      "Carolina, that was a great trick!\n",
      "I can't wait to see your next trick, Carolina.\n",
      "Thank you everyone, that was a great magic show!\n",
      "\n"
     ]
    }
   ],
   "source": [
    "magicians = ['alice', 'david', 'carolina']\n",
    "\n",
    "for magician in magicians:\n",
    "    print(f\"{magician.title()}, that was a great trick!\")\n",
    "    print(f\"I can't wait to see your next trick, {magician.title()}.\")\n",
    "\n",
    "# alice (again loop)\n",
    "# david (again loop)\n",
    "# carolina\n",
    "    \n",
    "    print(\"Thank you everyone, that was a great magic show!\\n\")# last message for everyone"
   ]
  },
  {
   "cell_type": "code",
   "execution_count": 38,
   "metadata": {},
   "outputs": [
    {
     "name": "stdout",
     "output_type": "stream",
     "text": [
      "Alice, that was a great trick!\n",
      "I can't wait to see your next trick, Alice.\n",
      "\n",
      "David, that was a great trick!\n",
      "I can't wait to see your next trick, David.\n",
      "\n",
      "Carolina, that was a great trick!\n",
      "I can't wait to see your next trick, Carolina.\n",
      "\n",
      "Thank you everyone, that was a great magic show!\n"
     ]
    }
   ],
   "source": [
    "magicians = ['alice', 'david', 'carolina']\n",
    "\n",
    "for magician in magicians:\n",
    "    print(f\"{magician.title()}, that was a great trick!\")\n",
    "    print(f\"I can't wait to see your next trick, {magician.title()}.\\n\")\n",
    "\n",
    "# alice (again loop)\n",
    "# david (again loop)\n",
    "# carolina\n",
    "    \n",
    "print(\"Thank you everyone, that was a great magic show!\")# last message for everyone"
   ]
  },
  {
   "cell_type": "code",
   "execution_count": 39,
   "metadata": {},
   "outputs": [
    {
     "data": {
      "text/plain": [
       "[(0, 'alice'), (1, 'david'), (2, 'carolina')]"
      ]
     },
     "execution_count": 39,
     "metadata": {},
     "output_type": "execute_result"
    }
   ],
   "source": [
    "#              0        1         2\n",
    "magicians = ['alice', 'david', 'carolina']\n",
    "\n",
    "list(enumerate(magicians)) # enumerate (apko index number and name dono dedega)"
   ]
  },
  {
   "cell_type": "code",
   "execution_count": 42,
   "metadata": {},
   "outputs": [
    {
     "name": "stdout",
     "output_type": "stream",
     "text": [
      "0 alice\n",
      "1 david\n",
      "2 carolina\n"
     ]
    }
   ],
   "source": [
    "#              0        1         2\n",
    "magicians = ['alice', 'david', 'carolina']\n",
    "\n",
    "for index, name in enumerate(magicians):\n",
    "    print(index, name)"
   ]
  },
  {
   "cell_type": "markdown",
   "metadata": {},
   "source": [
    "# Numbers with loop\n",
    "\n",
    "* range(start,end,step)"
   ]
  },
  {
   "cell_type": "code",
   "execution_count": 43,
   "metadata": {},
   "outputs": [
    {
     "data": {
      "text/plain": [
       "range(0, 10)"
      ]
     },
     "execution_count": 43,
     "metadata": {},
     "output_type": "execute_result"
    }
   ],
   "source": [
    "range(10)"
   ]
  },
  {
   "cell_type": "code",
   "execution_count": 46,
   "metadata": {},
   "outputs": [
    {
     "data": {
      "text/plain": [
       "[0, 1, 2, 3, 4, 5, 6, 7, 8, 9]"
      ]
     },
     "execution_count": 46,
     "metadata": {},
     "output_type": "execute_result"
    }
   ],
   "source": [
    "list(range(10)) # starting = 0 , ending = n -1"
   ]
  },
  {
   "cell_type": "code",
   "execution_count": 47,
   "metadata": {},
   "outputs": [
    {
     "data": {
      "text/plain": [
       "[2, 3, 4, 5, 6, 7, 8, 9]"
      ]
     },
     "execution_count": 47,
     "metadata": {},
     "output_type": "execute_result"
    }
   ],
   "source": [
    "list(range(2,10)) # starting = 2 , ending = n-1 10-1 = 9"
   ]
  },
  {
   "cell_type": "code",
   "execution_count": 49,
   "metadata": {},
   "outputs": [
    {
     "data": {
      "text/plain": [
       "[2, 4, 6, 8, 10, 12, 14, 16, 18, 20]"
      ]
     },
     "execution_count": 49,
     "metadata": {},
     "output_type": "execute_result"
    }
   ],
   "source": [
    "list(range(2,21,2)) # starting = 2 , ending = (n-1) 21-1 =20 , step = 2"
   ]
  },
  {
   "cell_type": "code",
   "execution_count": 53,
   "metadata": {},
   "outputs": [
    {
     "name": "stdout",
     "output_type": "stream",
     "text": [
      "1\n",
      "2\n",
      "3\n",
      "4\n",
      "5\n",
      "6\n",
      "7\n",
      "8\n",
      "9\n",
      "10\n"
     ]
    }
   ],
   "source": [
    "for n in range(1,11):\n",
    "    print(n)"
   ]
  },
  {
   "cell_type": "code",
   "execution_count": 62,
   "metadata": {},
   "outputs": [
    {
     "name": "stdout",
     "output_type": "stream",
     "text": [
      "2 X 1 = 2\n",
      "2 X 2 = 4\n",
      "2 X 3 = 6\n",
      "2 X 4 = 8\n",
      "2 X 5 = 10\n",
      "2 X 6 = 12\n",
      "2 X 7 = 14\n",
      "2 X 8 = 16\n",
      "2 X 9 = 18\n",
      "2 X 10 = 20\n"
     ]
    }
   ],
   "source": [
    "# Table\n",
    "\n",
    "for n in range(1,11):\n",
    "    print(f\"{2} X {n} = {n*2}\") "
   ]
  },
  {
   "cell_type": "code",
   "execution_count": 52,
   "metadata": {},
   "outputs": [
    {
     "name": "stdout",
     "output_type": "stream",
     "text": [
      "[1, 4, 9, 16, 25, 36, 49, 64, 81, 100]\n"
     ]
    }
   ],
   "source": [
    "squares:list[int] = []\n",
    "for value in range(1, 11):\n",
    "    square = value ** 2 # (1**2 = 1) to (10**2 = 100) \n",
    "    squares.append(square)\n",
    "print(squares)"
   ]
  },
  {
   "cell_type": "markdown",
   "metadata": {},
   "source": [
    "# List comprehensive\n",
    "```\n",
    "for item in items_list:\n",
    "    loop_body\n",
    "```\n",
    "\n",
    "### Comprehensive Style\n",
    "```\n",
    "[loop_body for item in items_list]\n",
    "```"
   ]
  },
  {
   "cell_type": "code",
   "execution_count": 63,
   "metadata": {},
   "outputs": [
    {
     "data": {
      "text/plain": [
       "[1, 2, 3, 4, 5, 6, 7, 8, 9, 10]"
      ]
     },
     "execution_count": 63,
     "metadata": {},
     "output_type": "execute_result"
    }
   ],
   "source": [
    "list(range(1,11))"
   ]
  },
  {
   "cell_type": "code",
   "execution_count": 64,
   "metadata": {},
   "outputs": [
    {
     "name": "stdout",
     "output_type": "stream",
     "text": [
      "1\n",
      "4\n",
      "9\n",
      "16\n",
      "25\n",
      "36\n",
      "49\n",
      "64\n",
      "81\n",
      "100\n"
     ]
    }
   ],
   "source": [
    "for i in range(1,11):\n",
    "    print(i**2)"
   ]
  },
  {
   "cell_type": "code",
   "execution_count": 65,
   "metadata": {},
   "outputs": [
    {
     "data": {
      "text/plain": [
       "'line3'"
      ]
     },
     "execution_count": 65,
     "metadata": {},
     "output_type": "execute_result"
    }
   ],
   "source": [
    "'line1'\n",
    "'line2'\n",
    "'line3' # always return last line"
   ]
  },
  {
   "cell_type": "code",
   "execution_count": 69,
   "metadata": {},
   "outputs": [
    {
     "name": "stdout",
     "output_type": "stream",
     "text": [
      "line1\n",
      "line2\n",
      "line3\n"
     ]
    }
   ],
   "source": [
    "print('line1')\n",
    "print('line2')\n",
    "print('line3') "
   ]
  },
  {
   "cell_type": "code",
   "execution_count": 67,
   "metadata": {},
   "outputs": [
    {
     "data": {
      "text/plain": [
       "[1, 4, 9, 16, 25, 36, 49, 64, 81, 100]"
      ]
     },
     "execution_count": 67,
     "metadata": {},
     "output_type": "execute_result"
    }
   ],
   "source": [
    "# Easy Square method\n",
    "\n",
    "[i**2 for i in range(1,11)]"
   ]
  },
  {
   "cell_type": "code",
   "execution_count": 70,
   "metadata": {},
   "outputs": [
    {
     "name": "stdout",
     "output_type": "stream",
     "text": [
      "[1, 2, 3, 4, 5, 6, 7, 8, 9, 10]\n",
      "10\n",
      "1\n",
      "55\n"
     ]
    }
   ],
   "source": [
    "digits:list[int] = [1, 2, 3, 4, 5, 6, 7, 8, 9, 10]\n",
    "\n",
    "print(digits)\n",
    "print(max(digits)) # 10\n",
    "print(min(digits)) # 1\n",
    "print(sum(digits)) # add all numbers 55"
   ]
  },
  {
   "cell_type": "code",
   "execution_count": 76,
   "metadata": {},
   "outputs": [
    {
     "name": "stdout",
     "output_type": "stream",
     "text": [
      "['Crispy Chicken Mayon Roll', 'Biryani', 'Delizia cake']\n",
      "['Crispy Chicken Mayon Roll', 'Biryani', 'Delizia cake']\n",
      "['Crispy Chicken Mayon Roll', 'Biryani', 'Delizia cake']\n",
      "['Lassi', 'Biryani', 'Delizia cake']\n"
     ]
    }
   ],
   "source": [
    "#                        0                   1            2\n",
    "my_foods = ['Crispy Chicken Mayon Roll', 'Biryani', 'Delizia cake'] \n",
    "friend_foods = my_foods[:] # deep copy (start : end)\n",
    "\n",
    "print(my_foods)\n",
    "print(friend_foods)\n",
    "\n",
    "friend_foods[0] = \"Lassi\"\n",
    "\n",
    "print(my_foods)\n",
    "print(friend_foods)"
   ]
  },
  {
   "cell_type": "markdown",
   "metadata": {},
   "source": [
    "# Tuples\n",
    "\n",
    "### Defination\n",
    "* yeh ek constant hai jis ki value ek bar ban jaye tu change nh ho sakti.\n",
    "* is mei koi bhi chez append nh ho sakti hai.\n",
    "* yeh update bhi nh ho sakta hai."
   ]
  },
  {
   "cell_type": "code",
   "execution_count": 79,
   "metadata": {},
   "outputs": [
    {
     "name": "stdout",
     "output_type": "stream",
     "text": [
      "A\n",
      "('A', 'B')\n"
     ]
    }
   ],
   "source": [
    "#                    0   1   2\n",
    "names:tuple[str] = ('A',\"B\",'C')\n",
    "print(names[0])\n",
    "print(names[0:2]) # (start : end)"
   ]
  },
  {
   "cell_type": "code",
   "execution_count": 81,
   "metadata": {},
   "outputs": [
    {
     "ename": "TypeError",
     "evalue": "'tuple' object does not support item assignment",
     "output_type": "error",
     "traceback": [
      "\u001b[1;31m---------------------------------------------------------------------------\u001b[0m",
      "\u001b[1;31mTypeError\u001b[0m                                 Traceback (most recent call last)",
      "\u001b[1;32mc:\\Users\\Wajiz.pk\\Desktop\\Ahmed\\Learn-Python\\05_class(list_tuple_for_loop)\\class-1.ipynb Cell 46\u001b[0m line \u001b[0;36m4\n\u001b[0;32m      <a href='vscode-notebook-cell:/c%3A/Users/Wajiz.pk/Desktop/Ahmed/Learn-Python/05_class%28list_tuple_for_loop%29/class-1.ipynb#Y222sZmlsZQ%3D%3D?line=0'>1</a>\u001b[0m \u001b[39m#                    0   1   2\u001b[39;00m\n\u001b[0;32m      <a href='vscode-notebook-cell:/c%3A/Users/Wajiz.pk/Desktop/Ahmed/Learn-Python/05_class%28list_tuple_for_loop%29/class-1.ipynb#Y222sZmlsZQ%3D%3D?line=1'>2</a>\u001b[0m names:\u001b[39mtuple\u001b[39m[\u001b[39mstr\u001b[39m] \u001b[39m=\u001b[39m (\u001b[39m'\u001b[39m\u001b[39mA\u001b[39m\u001b[39m'\u001b[39m,\u001b[39m\"\u001b[39m\u001b[39mB\u001b[39m\u001b[39m\"\u001b[39m,\u001b[39m'\u001b[39m\u001b[39mC\u001b[39m\u001b[39m'\u001b[39m)\n\u001b[1;32m----> <a href='vscode-notebook-cell:/c%3A/Users/Wajiz.pk/Desktop/Ahmed/Learn-Python/05_class%28list_tuple_for_loop%29/class-1.ipynb#Y222sZmlsZQ%3D%3D?line=3'>4</a>\u001b[0m names[\u001b[39m0\u001b[39;49m] \u001b[39m=\u001b[39m \u001b[39m\"\u001b[39m\u001b[39mPakistan\u001b[39m\u001b[39m\"\u001b[39m\n",
      "\u001b[1;31mTypeError\u001b[0m: 'tuple' object does not support item assignment"
     ]
    }
   ],
   "source": [
    "#                    0   1   2\n",
    "names:tuple[str] = ('A',\"B\",'C')\n",
    "\n",
    "names[0] = \"Pakistan\" # (error because yeh update nh ho sakta hai)"
   ]
  },
  {
   "cell_type": "code",
   "execution_count": 82,
   "metadata": {},
   "outputs": [
    {
     "name": "stdout",
     "output_type": "stream",
     "text": [
      "('Pakistan', 'B', 'C')\n"
     ]
    }
   ],
   "source": [
    "names:tuple[str] = ('A',\"B\",'C')\n",
    "\n",
    "names:tuple[str] = ('Pakistan',\"B\",'C')\n",
    "\n",
    "print(names) # not update but re-assign"
   ]
  },
  {
   "cell_type": "code",
   "execution_count": 83,
   "metadata": {},
   "outputs": [
    {
     "name": "stdout",
     "output_type": "stream",
     "text": [
      "('Ahmed', [7, 8, 6], True)\n"
     ]
    }
   ],
   "source": [
    "from typing import Any\n",
    "data : tuple[Any] = (\"Ahmed\",[7,8,6], True)\n",
    "\n",
    "print(data) "
   ]
  },
  {
   "cell_type": "code",
   "execution_count": 84,
   "metadata": {},
   "outputs": [
    {
     "name": "stdout",
     "output_type": "stream",
     "text": [
      "[7, 8]\n",
      "('A', [7, 8, 6], True)\n"
     ]
    }
   ],
   "source": [
    "data : tuple[Any] = (\"A\",[7,8], True)\n",
    "\n",
    "print(data[1])\n",
    "data[1].append(6)\n",
    "print(data)# (hum ne object ki value ko update kiya hai tuple ko update nh kiya)"
   ]
  },
  {
   "cell_type": "code",
   "execution_count": 85,
   "metadata": {},
   "outputs": [
    {
     "name": "stdout",
     "output_type": "stream",
     "text": [
      "<class 'str'>\n",
      "76\n"
     ]
    }
   ],
   "source": [
    "a  = input(\"abc\") # return string type\n",
    "print(type(a))\n",
    "print(a)"
   ]
  },
  {
   "cell_type": "code",
   "execution_count": 87,
   "metadata": {},
   "outputs": [
    {
     "data": {
      "text/plain": [
       "[1, 3, 7, 8]"
      ]
     },
     "execution_count": 87,
     "metadata": {},
     "output_type": "execute_result"
    }
   ],
   "source": [
    "sorted([7,8,1,3])"
   ]
  }
 ],
 "metadata": {
  "kernelspec": {
   "display_name": "python12",
   "language": "python",
   "name": "python3"
  },
  "language_info": {
   "codemirror_mode": {
    "name": "ipython",
    "version": 3
   },
   "file_extension": ".py",
   "mimetype": "text/x-python",
   "name": "python",
   "nbconvert_exporter": "python",
   "pygments_lexer": "ipython3",
   "version": "3.12.0"
  }
 },
 "nbformat": 4,
 "nbformat_minor": 2
}
