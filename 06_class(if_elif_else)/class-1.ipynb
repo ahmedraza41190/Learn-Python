{
 "cells": [
  {
   "cell_type": "markdown",
   "metadata": {},
   "source": [
    "# If-else-elif\n",
    "\n",
    "```\n",
    " if logic:\n",
    "    True_block\n",
    " else:\n",
    "    False_block\n",
    "```\n",
    "\n",
    "## comprehensive if-else\n",
    "```\n",
    "True_block if logic else False_block\n",
    "```\n",
    "* if\n",
    "* if-else\n",
    "* if-elif-else"
   ]
  },
  {
   "cell_type": "code",
   "execution_count": 1,
   "metadata": {},
   "outputs": [
    {
     "name": "stdout",
     "output_type": "stream",
     "text": [
      "Pakistan zinda bad\n"
     ]
    }
   ],
   "source": [
    "if True:\n",
    "    print(\"Pakistan zinda bad\")\n",
    "else:\n",
    "    print(\"Hello world!\")"
   ]
  },
  {
   "cell_type": "code",
   "execution_count": 2,
   "metadata": {},
   "outputs": [
    {
     "name": "stdout",
     "output_type": "stream",
     "text": [
      "Hello world!\n"
     ]
    }
   ],
   "source": [
    "if False:\n",
    "    print(\"Pakistan zinda bad\")\n",
    "else:\n",
    "    print(\"Hello world!\")"
   ]
  },
  {
   "cell_type": "code",
   "execution_count": 3,
   "metadata": {},
   "outputs": [
    {
     "name": "stdout",
     "output_type": "stream",
     "text": [
      "Hello world!\n"
     ]
    }
   ],
   "source": [
    "#     True_block               logic           False_block\n",
    "print(\"Pakistan zinda bad\") if False else print(\"Hello world!\")"
   ]
  },
  {
   "cell_type": "code",
   "execution_count": 4,
   "metadata": {},
   "outputs": [
    {
     "name": "stdout",
     "output_type": "stream",
     "text": [
      "Pakistan zinda bad\n"
     ]
    }
   ],
   "source": [
    "#     True_block               logic           False_block\n",
    "print(\"Pakistan zinda bad\") if True else print(\"Hello world!\")"
   ]
  },
  {
   "cell_type": "markdown",
   "metadata": {},
   "source": [
    "# comparison operators\n",
    "\n",
    "* '=='\n",
    "* '>='\n",
    "* '<='\n",
    "* '!='\n",
    "\n",
    "# logic\n",
    "\n",
    "* and\n",
    "* or\n",
    "* not"
   ]
  },
  {
   "cell_type": "code",
   "execution_count": 5,
   "metadata": {},
   "outputs": [
    {
     "name": "stdout",
     "output_type": "stream",
     "text": [
      "True Pakistan block\n",
      "1\n",
      "2\n"
     ]
    }
   ],
   "source": [
    "if True:\n",
    "    print(\"True Pakistan block\")\n",
    "\n",
    "print(\"1\")\n",
    "print(\"2\")"
   ]
  },
  {
   "cell_type": "code",
   "execution_count": 6,
   "metadata": {},
   "outputs": [
    {
     "name": "stdout",
     "output_type": "stream",
     "text": [
      "1\n",
      "2\n"
     ]
    }
   ],
   "source": [
    "if False:\n",
    "    print(\"True Pakistan block\")\n",
    "\n",
    "print(\"1\")\n",
    "print(\"2\")"
   ]
  },
  {
   "cell_type": "code",
   "execution_count": 7,
   "metadata": {},
   "outputs": [
    {
     "name": "stdout",
     "output_type": "stream",
     "text": [
      "True_block\n"
     ]
    }
   ],
   "source": [
    "if True:\n",
    "    print(\"True_block\")\n",
    "elif False:\n",
    "    print(\"elif logic1\")\n",
    "elif False:\n",
    "    print(\"elif logic2\")\n",
    "elif False:\n",
    "    print(\"elif logic3\")\n",
    "else:\n",
    "    print(\"final else block\")"
   ]
  },
  {
   "cell_type": "code",
   "execution_count": 8,
   "metadata": {},
   "outputs": [
    {
     "name": "stdout",
     "output_type": "stream",
     "text": [
      "elif logic1\n"
     ]
    }
   ],
   "source": [
    "if False:\n",
    "    print(\"True_block\")\n",
    "elif True:\n",
    "    print(\"elif logic1\")\n",
    "elif False:\n",
    "    print(\"elif logic2\")\n",
    "elif False:\n",
    "    print(\"elif logic3\")\n",
    "else:\n",
    "    print(\"final else block\")"
   ]
  },
  {
   "cell_type": "code",
   "execution_count": 9,
   "metadata": {},
   "outputs": [
    {
     "name": "stdout",
     "output_type": "stream",
     "text": [
      "elif logic2\n",
      "final else block\n",
      "Pakistan\n"
     ]
    }
   ],
   "source": [
    "# chain1 run only one block \n",
    "if False:\n",
    "    print(\"True_block\")\n",
    "elif False:\n",
    "    print(\"elif logic1\")\n",
    "elif True:\n",
    "    print(\"elif logic2\") # (aghar usko phely he 'True' mil gaya tu woh baki ko ignore karega or next condition chalaiga)\n",
    "elif True:\n",
    "    print(\"elif logic3\")\n",
    "else:\n",
    "    print(\"final else block\")\n",
    "\n",
    "# chain2 run only one block \n",
    "if False:\n",
    "    print(\"True_block\")\n",
    "elif False:\n",
    "    print(\"elif logic1\")\n",
    "elif False:\n",
    "    print(\"elif logic2\")\n",
    "elif False:\n",
    "    print(\"elif logic3\")\n",
    "else:\n",
    "    print(\"final else block\") # (beacuse usko koi 'True' condition nh mili)\n",
    "\n",
    " \n",
    "print(\"Pakistan\")"
   ]
  },
  {
   "cell_type": "markdown",
   "metadata": {},
   "source": [
    "# Grading Rule\n",
    "\n",
    "https://www.infoworld.com/article/3630372/get-started-with-python-type-hints.html\n"
   ]
  },
  {
   "cell_type": "code",
   "execution_count": 1,
   "metadata": {},
   "outputs": [
    {
     "name": "stdout",
     "output_type": "stream",
     "text": [
      "Dear Student your percentage is 88 now your calculated grade is:\t A+\n"
     ]
    }
   ],
   "source": [
    "from typing import Union\n",
    "\n",
    "per : Union[int, float] = 88\n",
    "grade :Union[str, None] = None\n",
    "\n",
    "if per >= 80:\n",
    "    grade = \"A+\"\n",
    "elif per >= 70:\n",
    "    grade = \"A\"\n",
    "elif per >= 60:\n",
    "    grade = \"B\"\n",
    "elif per >= 50:\n",
    "    grade = \"C\"\n",
    "elif per >= 40:\n",
    "    grade = \"D\"\n",
    "elif per >= 33:\n",
    "    grade = \"E\"\n",
    "else:\n",
    "    grade = \"Fail\"\n",
    "\n",
    "print(f\"Dear Student your percentage is {per} now your calculated grade is:\\t {grade}\")\n",
    "    "
   ]
  },
  {
   "cell_type": "code",
   "execution_count": 2,
   "metadata": {},
   "outputs": [
    {
     "name": "stdout",
     "output_type": "stream",
     "text": [
      "<class 'str'>\n",
      "73\n"
     ]
    }
   ],
   "source": [
    "a = input(\"Enter your percentage:\\t\")\n",
    "print(type(a))\n",
    "print(a)"
   ]
  },
  {
   "cell_type": "code",
   "execution_count": 3,
   "metadata": {},
   "outputs": [
    {
     "name": "stdout",
     "output_type": "stream",
     "text": [
      "<class 'int'>\n",
      "74\n"
     ]
    }
   ],
   "source": [
    "a = int(input(\"Enter your percentage:\\t\"))\n",
    "print(type(a))\n",
    "print(a)"
   ]
  },
  {
   "cell_type": "code",
   "execution_count": 4,
   "metadata": {},
   "outputs": [
    {
     "name": "stdout",
     "output_type": "stream",
     "text": [
      "Dear Student your percentage is 74 now your calculated grade is:\t A\n"
     ]
    }
   ],
   "source": [
    "from typing import Union\n",
    "\n",
    "per : Union[int, float] = int(input(\"Enter your percentage:\\t\"))\n",
    "grade : Union[str, None] = None\n",
    "\n",
    "if per >= 80:\n",
    "    grade = \"A+\"\n",
    "elif per >= 70:\n",
    "    grade = \"A\"\n",
    "elif per >= 60:\n",
    "    grade = \"B\"\n",
    "elif per >= 50:\n",
    "    grade = \"C\"\n",
    "elif per >= 40:\n",
    "    grade = \"D\"\n",
    "elif per >= 33:\n",
    "    grade = \"E\"\n",
    "else:\n",
    "    grade = \"Fail\"\n",
    "\n",
    "print(f\"Dear Student your percentage is {per} now your calculated grade is:\\t {grade}\")\n",
    "    "
   ]
  },
  {
   "cell_type": "code",
   "execution_count": 7,
   "metadata": {},
   "outputs": [
    {
     "name": "stdout",
     "output_type": "stream",
     "text": [
      "Dear Student your percentage is 88 now your calculated grade is:\t A+\n"
     ]
    }
   ],
   "source": [
    "from typing import Union, Optional\n",
    "\n",
    "per : Union[int, float] = 88\n",
    "#      OR\n",
    "# per : int | float = 88\n",
    "\n",
    "grade :Optional[str] = None\n",
    "\n",
    "if per >= 80:\n",
    "    grade = \"A+\"\n",
    "elif per >= 70:\n",
    "    grade = \"A\"\n",
    "elif per >= 60:\n",
    "    grade = \"B\"\n",
    "elif per >= 50:\n",
    "    grade = \"C\"\n",
    "elif per >= 40:\n",
    "    grade = \"D\"\n",
    "elif per >= 33:\n",
    "    grade = \"E\"\n",
    "else:\n",
    "    grade = \"Fail\"\n",
    "\n",
    "print(f\"Dear Student your percentage is {per} now your calculated grade is:\\t {grade}\")"
   ]
  },
  {
   "cell_type": "markdown",
   "metadata": {},
   "source": [
    "# Logical Error"
   ]
  },
  {
   "cell_type": "code",
   "execution_count": 8,
   "metadata": {},
   "outputs": [
    {
     "name": "stdout",
     "output_type": "stream",
     "text": [
      "Dear Student your percentage is 52 now your calculated grade is:\t Fail\n"
     ]
    }
   ],
   "source": [
    "# Problem\n",
    "\n",
    "from typing import Union\n",
    "\n",
    "per : Union[int, float] = int(input(\"Enter your percentage:\\t\"))\n",
    "grade : Union[str, None] = None\n",
    "\n",
    "if per >= 0:\n",
    "    grade = \"Fail\" \n",
    "elif per >= 33:\n",
    "    grade = \"E\"\n",
    "elif per >= 40:\n",
    "    grade = \"D\"\n",
    "elif per >= 50:\n",
    "    grade = \"C\"\n",
    "elif per >= 60:\n",
    "    grade = \"B\"\n",
    "elif per >= 70:\n",
    "    grade = \"A\"\n",
    "else:\n",
    "    grade = \"A+\"\n",
    "#                                                                                                                      52\n",
    "print(f\"Dear Student your percentage is {per} now your calculated grade is:\\t {grade}\") # Fail (because usko phely he 'per >= 0' True mil gaya) "
   ]
  },
  {
   "cell_type": "code",
   "execution_count": 9,
   "metadata": {},
   "outputs": [
    {
     "name": "stdout",
     "output_type": "stream",
     "text": [
      "Dear Student your percentage is 52 now your calculated grade is:\t C\n"
     ]
    }
   ],
   "source": [
    "from typing import Union\n",
    "\n",
    "per : Union[int, float] = int(input(\"Enter your percentage:\\t\"))\n",
    "grade : Union[str, None] = None\n",
    "\n",
    "if per >= 0 and per < 33:\n",
    "    grade = \"Fail\"\n",
    "elif per >= 33 and per < 40:\n",
    "    grade = \"E\"\n",
    "elif per >= 40 and per < 50:\n",
    "    grade = \"D\"\n",
    "elif per >= 50 and per < 60:\n",
    "    grade = \"C\"\n",
    "elif per >= 60 and per <70 :\n",
    "    grade = \"B\"\n",
    "elif per >= 70 and per <80 :\n",
    "    grade = \"A\"\n",
    "elif per >=80 and per <= 100:\n",
    "    grade = \"A+\"\n",
    "\n",
    "print(f\"Dear Student your percentage is {per} now your calculated grade is:\\t {grade}\")"
   ]
  },
  {
   "cell_type": "code",
   "execution_count": 10,
   "metadata": {},
   "outputs": [
    {
     "name": "stdout",
     "output_type": "stream",
     "text": [
      "Dear Student your percentage is 47.0 now your calculated grade is:\t D\n"
     ]
    }
   ],
   "source": [
    "from typing import Union\n",
    "\n",
    "per : Union[int, float] = float(input(\"Enter your percentage:\\t\"))\n",
    "grade : Union[str, None] = None\n",
    "\n",
    "if (per >= 0) and (per < 33):\n",
    "    grade = \"Fail\"\n",
    "elif (per >= 33) and (per < 40):\n",
    "    grade = \"E\"\n",
    "elif (per >= 40) and (per < 50):\n",
    "    grade = \"D\"\n",
    "elif (per >= 50) and (per < 60):\n",
    "    grade = \"C\"\n",
    "elif (per >= 60) and (per <70) :\n",
    "    grade = \"B\"\n",
    "elif (per >= 70) and (per <80) :\n",
    "    grade = \"A\"\n",
    "elif (per >=80) and (per <= 100):\n",
    "    grade = \"A+\"\n",
    "\n",
    "print(f\"Dear Student your percentage is {per} now your calculated grade is:\\t {grade}\")"
   ]
  },
  {
   "cell_type": "markdown",
   "metadata": {},
   "source": [
    "# student percentages\n",
    "\n",
    "https://peps.python.org/pep-0484/#type-aliases"
   ]
  },
  {
   "cell_type": "code",
   "execution_count": 14,
   "metadata": {},
   "outputs": [
    {
     "name": "stdout",
     "output_type": "stream",
     "text": [
      "[73.4, 75, 74.5, 52, 47, 80]\n",
      "['A', 'A', 'A', 'C', 'D', 'A+']\n"
     ]
    }
   ],
   "source": [
    "from typing import Union\n",
    "\n",
    "PerType = Union[float, int] # percentage ki types\n",
    "\n",
    "percentages : list[PerType] = [73.4, 75, 74.5, 52, 47, 80]\n",
    "\n",
    "grades : list[str] = []\n",
    "\n",
    "for per in percentages:\n",
    "    grade : str = \"\"\n",
    "\n",
    "    if (per >= 0) and (per < 33):\n",
    "        grade = \"Fail\"\n",
    "    elif (per >= 33) and (per < 40):\n",
    "        grade = \"E\"\n",
    "    elif (per >= 40) and (per < 50):\n",
    "        grade = \"D\"\n",
    "    elif (per >= 50) and (per < 60):\n",
    "        grade = \"C\"\n",
    "    elif (per >= 60) and (per <70) :\n",
    "        grade = \"B\"\n",
    "    elif (per >= 70) and (per <80) :\n",
    "        grade = \"A\"\n",
    "    elif (per >=80) and (per <= 100):\n",
    "        grade = \"A+\"\n",
    "\n",
    "    grades.append(grade)\n",
    "\n",
    "print(percentages)\n",
    "print(grades)\n"
   ]
  },
  {
   "cell_type": "code",
   "execution_count": 12,
   "metadata": {},
   "outputs": [
    {
     "name": "stdout",
     "output_type": "stream",
     "text": [
      "['Sir Zia', 'Qasim', 'Sir Inam']\n"
     ]
    }
   ],
   "source": [
    "names: list[str] = ['Sir Zia']\n",
    "\n",
    "names.append(\"Qasim\")\n",
    "names.append(\"Sir Inam\")\n",
    "print(names)"
   ]
  },
  {
   "cell_type": "code",
   "execution_count": 15,
   "metadata": {},
   "outputs": [
    {
     "data": {
      "text/plain": [
       "<zip at 0x21c1d0110c0>"
      ]
     },
     "execution_count": 15,
     "metadata": {},
     "output_type": "execute_result"
    }
   ],
   "source": [
    "zip(percentages, grades) # <zip at 0x10c2c00c0> (yeh ek generator function  hai or iteration perform krta hai woh bhi -> (list, for loop) mei)"
   ]
  },
  {
   "cell_type": "code",
   "execution_count": 16,
   "metadata": {},
   "outputs": [
    {
     "data": {
      "text/plain": [
       "[(73.4, 'A'), (75, 'A'), (74.5, 'A'), (52, 'C'), (47, 'D'), (80, 'A+')]"
      ]
     },
     "execution_count": 16,
     "metadata": {},
     "output_type": "execute_result"
    }
   ],
   "source": [
    "# 'Zip' (percentages or grades ko aapass mei mila dega) \n",
    "list(zip(percentages, grades))"
   ]
  },
  {
   "cell_type": "code",
   "execution_count": 17,
   "metadata": {},
   "outputs": [
    {
     "data": {
      "text/plain": [
       "[0, 1, 2, 3, 4, 5]"
      ]
     },
     "execution_count": 17,
     "metadata": {},
     "output_type": "execute_result"
    }
   ],
   "source": [
    "list(range(len(percentages)))"
   ]
  },
  {
   "cell_type": "code",
   "execution_count": 18,
   "metadata": {},
   "outputs": [
    {
     "data": {
      "text/plain": [
       "[0, 1, 2, 3, 4, 5]"
      ]
     },
     "execution_count": 18,
     "metadata": {},
     "output_type": "execute_result"
    }
   ],
   "source": [
    "roll_no: list[int] = list(range(len(percentages)))\n",
    "roll_no"
   ]
  },
  {
   "cell_type": "code",
   "execution_count": 19,
   "metadata": {},
   "outputs": [
    {
     "data": {
      "text/plain": [
       "[(0, 73.4, 'A'),\n",
       " (1, 75, 'A'),\n",
       " (2, 74.5, 'A'),\n",
       " (3, 52, 'C'),\n",
       " (4, 47, 'D'),\n",
       " (5, 80, 'A+')]"
      ]
     },
     "execution_count": 19,
     "metadata": {},
     "output_type": "execute_result"
    }
   ],
   "source": [
    "data_base = list(zip(roll_no,percentages, grades))\n",
    "data_base"
   ]
  },
  {
   "cell_type": "code",
   "execution_count": 20,
   "metadata": {},
   "outputs": [
    {
     "data": {
      "text/plain": [
       "[(0, 73.4, 'A'),\n",
       " (1, 75, 'A'),\n",
       " (2, 74.5, 'A'),\n",
       " (3, 52, 'C'),\n",
       " (4, 47, 'D'),\n",
       " (5, 80, 'A+')]"
      ]
     },
     "metadata": {},
     "output_type": "display_data"
    },
    {
     "data": {
      "text/plain": [
       "[(0, 73.4, 'A'),\n",
       " (1, 75, 'A'),\n",
       " (2, 74.5, 'A'),\n",
       " (3, 52, 'C'),\n",
       " (4, 47, 'D'),\n",
       " (5, 80, 'A+')]"
      ]
     },
     "execution_count": 20,
     "metadata": {},
     "output_type": "execute_result"
    }
   ],
   "source": [
    "display(data_base)\n",
    "sorted(data_base)# (sorted values ko assending mei assign krta hai or is mei sorted 'roll_no' hongay q ke woh '0' index mei hai)"
   ]
  },
  {
   "cell_type": "code",
   "execution_count": 30,
   "metadata": {},
   "outputs": [
    {
     "data": {
      "text/plain": [
       "[(0, 73.4, 'A'),\n",
       " (1, 75, 'A'),\n",
       " (2, 74.5, 'A'),\n",
       " (3, 52, 'C'),\n",
       " (4, 47, 'D'),\n",
       " (5, 80, 'A+')]"
      ]
     },
     "metadata": {},
     "output_type": "display_data"
    },
    {
     "data": {
      "text/plain": [
       "[(4, 47, 'D'),\n",
       " (3, 52, 'C'),\n",
       " (0, 73.4, 'A'),\n",
       " (2, 74.5, 'A'),\n",
       " (1, 75, 'A'),\n",
       " (5, 80, 'A+')]"
      ]
     },
     "execution_count": 30,
     "metadata": {},
     "output_type": "execute_result"
    }
   ],
   "source": [
    "display(data_base)\n",
    "\n",
    "#             (index 0 = roll_no , '1 = percentages' , 2 = grades)       \n",
    "\n",
    "sorted(data_base, key=lambda x:x[1])# ('key' ek parameter function hai jisko ek 'lambda' function pass krna hota hai or 'x' ek tuple hai)"
   ]
  },
  {
   "cell_type": "code",
   "execution_count": 31,
   "metadata": {},
   "outputs": [
    {
     "data": {
      "text/plain": [
       "[(0, 73.4, 'A'),\n",
       " (1, 75, 'A'),\n",
       " (2, 74.5, 'A'),\n",
       " (3, 52, 'C'),\n",
       " (4, 47, 'D'),\n",
       " (5, 80, 'A+')]"
      ]
     },
     "metadata": {},
     "output_type": "display_data"
    },
    {
     "data": {
      "text/plain": [
       "[(5, 80, 'A+'),\n",
       " (1, 75, 'A'),\n",
       " (2, 74.5, 'A'),\n",
       " (0, 73.4, 'A'),\n",
       " (3, 52, 'C'),\n",
       " (4, 47, 'D')]"
      ]
     },
     "execution_count": 31,
     "metadata": {},
     "output_type": "execute_result"
    }
   ],
   "source": [
    "display(data_base)\n",
    "sorted(data_base, key=lambda x:x[1], reverse=True)"
   ]
  },
  {
   "cell_type": "code",
   "execution_count": 32,
   "metadata": {},
   "outputs": [
    {
     "name": "stdout",
     "output_type": "stream",
     "text": [
      "Audi\n",
      "BMW\n",
      "Subaru\n",
      "Toyota\n"
     ]
    }
   ],
   "source": [
    "cars : list[str] = ['audi', 'bmw', 'subaru', 'toyota']\n",
    "for car in cars:\n",
    "    if car == 'bmw':\n",
    "     print(car.upper())\n",
    "    else:\n",
    "     print(car.title())"
   ]
  },
  {
   "cell_type": "code",
   "execution_count": 33,
   "metadata": {},
   "outputs": [
    {
     "name": "stdout",
     "output_type": "stream",
     "text": [
      "toyota\n"
     ]
    },
    {
     "data": {
      "text/plain": [
       "False"
      ]
     },
     "execution_count": 33,
     "metadata": {},
     "output_type": "execute_result"
    }
   ],
   "source": [
    "print(car) # toyota (because loop jab chalta hai tu uski last value uske variable mei hoti hai)\n",
    "car == 'bmw' # false"
   ]
  },
  {
   "cell_type": "code",
   "execution_count": 35,
   "metadata": {},
   "outputs": [
    {
     "data": {
      "text/plain": [
       "False"
      ]
     },
     "execution_count": 35,
     "metadata": {},
     "output_type": "execute_result"
    }
   ],
   "source": [
    "car = 'Audi'\n",
    "car == 'audi'"
   ]
  },
  {
   "cell_type": "code",
   "execution_count": 34,
   "metadata": {},
   "outputs": [
    {
     "data": {
      "text/plain": [
       "True"
      ]
     },
     "execution_count": 34,
     "metadata": {},
     "output_type": "execute_result"
    }
   ],
   "source": [
    "car = 'Audi'\n",
    "car.lower() == 'audi'"
   ]
  },
  {
   "cell_type": "code",
   "execution_count": 36,
   "metadata": {},
   "outputs": [
    {
     "data": {
      "text/plain": [
       "['Audi', 'BMW', 'Subaru', 'Toyota']"
      ]
     },
     "execution_count": 36,
     "metadata": {},
     "output_type": "execute_result"
    }
   ],
   "source": [
    "cars : list[str] = ['audi', 'bmw', 'subaru', 'toyota']\n",
    "\n",
    "[i.upper() if i=='bmw' else i.title() for i in cars]"
   ]
  },
  {
   "cell_type": "code",
   "execution_count": 37,
   "metadata": {},
   "outputs": [
    {
     "name": "stdout",
     "output_type": "stream",
     "text": [
      "AUDI\n",
      "BMW\n",
      "mehran\n",
      "SUBARU\n",
      "TOYOTA\n"
     ]
    }
   ],
   "source": [
    "cars : list[str] = ['audi', 'bmw',\"Mehran\", 'subaru', 'toyota']\n",
    "\n",
    "for car in cars: # in = extract element from iterated types \n",
    "    if car != 'Mehran':\n",
    "        print(car.upper())\n",
    "    else:\n",
    "        print(car.lower())"
   ]
  },
  {
   "cell_type": "code",
   "execution_count": 38,
   "metadata": {},
   "outputs": [
    {
     "name": "stdout",
     "output_type": "stream",
     "text": [
      "That is not the correct answer. Please try again!\n"
     ]
    }
   ],
   "source": [
    "answer = 17\n",
    "if answer != 42:\n",
    "    print(\"That is not the correct answer. Please try again!\")"
   ]
  },
  {
   "cell_type": "code",
   "execution_count": 39,
   "metadata": {},
   "outputs": [
    {
     "data": {
      "text/plain": [
       "False"
      ]
     },
     "execution_count": 39,
     "metadata": {},
     "output_type": "execute_result"
    }
   ],
   "source": [
    "cars : list[str] = ['audi', 'bmw',\"Mehran\", 'subaru', 'toyota']\n",
    "\n",
    "'changan' in cars # false (because 'changan' list mei nh hai)"
   ]
  },
  {
   "cell_type": "code",
   "execution_count": 40,
   "metadata": {},
   "outputs": [
    {
     "data": {
      "text/plain": [
       "True"
      ]
     },
     "execution_count": 40,
     "metadata": {},
     "output_type": "execute_result"
    }
   ],
   "source": [
    "cars : list[str] = ['audi', 'bmw',\"Mehran\", 'subaru', 'toyota']\n",
    "\n",
    "'bmw' in cars # True"
   ]
  },
  {
   "cell_type": "code",
   "execution_count": 43,
   "metadata": {},
   "outputs": [
    {
     "name": "stdout",
     "output_type": "stream",
     "text": [
      "True\n",
      "Marie, you can post a response if you wish.\n"
     ]
    }
   ],
   "source": [
    "\n",
    "banned_users : list[str] = ['andrew', 'carolina', 'david']\n",
    "user : str = 'marie'\n",
    "\n",
    "print(user not in banned_users)\n",
    "\n",
    "if user not in banned_users:\n",
    "    print(f\"{user.title()}, you can post a response if you wish.\")"
   ]
  },
  {
   "cell_type": "code",
   "execution_count": 44,
   "metadata": {},
   "outputs": [
    {
     "name": "stdout",
     "output_type": "stream",
     "text": [
      "Sorry, you are too young to vote.\n",
      "Please register to vote as soon as you turn 18!\n"
     ]
    }
   ],
   "source": [
    "age: int = 17\n",
    "if age >= 18:\n",
    "    print(\"You are old enough to vote!\") \n",
    "    print(\"Have you registered to vote yet?\")\n",
    "else:\n",
    "    print(\"Sorry, you are too young to vote.\")\n",
    "    print(\"Please register to vote as soon as you turn 18!\")"
   ]
  },
  {
   "cell_type": "code",
   "execution_count": 45,
   "metadata": {},
   "outputs": [
    {
     "name": "stdout",
     "output_type": "stream",
     "text": [
      "Your admission cost is $25.\n"
     ]
    }
   ],
   "source": [
    "age = 12\n",
    "if age < 4:\n",
    "    print(\"Your admission cost is $0.\")\n",
    "elif age < 18:\n",
    "    print(\"Your admission cost is $25.\")\n",
    "else:\n",
    "      print(\"Your admission cost is $40.\")"
   ]
  },
  {
   "cell_type": "code",
   "execution_count": 46,
   "metadata": {},
   "outputs": [
    {
     "name": "stdout",
     "output_type": "stream",
     "text": [
      "Adding mushrooms.\n",
      "Adding extra cheese.\n",
      "\n",
      "Finished making your pizza!\n"
     ]
    }
   ],
   "source": [
    "requested_toppings : list[str] = ['mushrooms', 'extra cheese']\n",
    "\n",
    "if 'mushrooms' in requested_toppings:\n",
    "      print(\"Adding mushrooms.\")\n",
    "    \n",
    "if 'pepperoni' in requested_toppings: \n",
    "    print(\"Adding pepperoni.\")\n",
    "    \n",
    "if 'extra cheese' in requested_toppings:\n",
    "    print(\"Adding extra cheese.\")\n",
    "    \n",
    "print(\"\\nFinished making your pizza!\")"
   ]
  },
  {
   "cell_type": "code",
   "execution_count": 47,
   "metadata": {},
   "outputs": [
    {
     "name": "stdout",
     "output_type": "stream",
     "text": [
      "Adding mushrooms.\n",
      "Sorry, we are out of green peppers right now.\n",
      "Adding extra cheese.\n",
      "\n",
      "Finished making your pizza!\n"
     ]
    }
   ],
   "source": [
    "requested_toppings = ['mushrooms', 'green peppers', 'extra cheese']\n",
    "for requested_topping in requested_toppings:\n",
    "    if requested_topping == 'green peppers':\n",
    "        print(\"Sorry, we are out of green peppers right now.\")\n",
    "    else:\n",
    "        print(f\"Adding {requested_topping}.\")\n",
    "        \n",
    "print(\"\\nFinished making your pizza!\")"
   ]
  },
  {
   "cell_type": "code",
   "execution_count": 50,
   "metadata": {},
   "outputs": [
    {
     "name": "stdout",
     "output_type": "stream",
     "text": [
      "Are you sure you want a plain pizza?\n"
     ]
    }
   ],
   "source": [
    "requested_toppings = []\n",
    "\n",
    "if requested_toppings:\n",
    "    for requested_topping in requested_toppings:\n",
    "        print(f\"Adding {requested_topping}.\")\n",
    "    print(\"\\nFinished making your pizza!\")\n",
    "else:\n",
    "    print(\"Are you sure you want a plain pizza?\")"
   ]
  },
  {
   "cell_type": "code",
   "execution_count": 51,
   "metadata": {},
   "outputs": [
    {
     "name": "stdout",
     "output_type": "stream",
     "text": [
      "Adding mushrooms.\n",
      "Sorry, we don't have french fries.\n",
      "Adding extra cheese.\n",
      "\n",
      "Finished making your pizza!\n"
     ]
    }
   ],
   "source": [
    "available_toppings:list[str] = ['mushrooms', 'olives', 'green peppers',\n",
    "                        'pepperoni', 'pineapple', 'extra cheese']\n",
    "\n",
    "requested_toppings:list[str] = ['mushrooms', 'french fries', 'extra cheese'] # user input\n",
    "\n",
    "for requested_topping in requested_toppings:\n",
    "    if requested_topping in available_toppings:\n",
    "        print(f\"Adding {requested_topping}.\")\n",
    "    else:\n",
    "        print(f\"Sorry, we don't have {requested_topping}.\")\n",
    "print(\"\\nFinished making your pizza!\")"
   ]
  },
  {
   "cell_type": "code",
   "execution_count": 53,
   "metadata": {},
   "outputs": [
    {
     "data": {
      "text/plain": [
       "['ABC ', ' abc ', ' 123']"
      ]
     },
     "execution_count": 53,
     "metadata": {},
     "output_type": "execute_result"
    }
   ],
   "source": [
    "input(\"Enter ',' seprated value for topping\").split(\",\")# (yeh apko ek list bana dena)"
   ]
  },
  {
   "cell_type": "code",
   "execution_count": 23,
   "metadata": {},
   "outputs": [
    {
     "name": "stdout",
     "output_type": "stream",
     "text": [
      "Invalid user or password\n"
     ]
    }
   ],
   "source": [
    "user_name : str = input(\"Enter user id: \\t\") # Ahmed\n",
    "user_passwrod : str = input(\"Enter password:\\t\") # Ahmed\n",
    "\n",
    "\n",
    "if user_name == 'admin' and user_passwrod == 'admin':\n",
    "    print(\"sent otp code on your registered number\")\n",
    "    otp : str = input(\"Please inter otp code:\\t\")\n",
    "    if otp == '123':\n",
    "        print(\"Welcom PIAIC\")\n",
    "else:\n",
    "    print(\"Invalid user or password\")# Invalid user "
   ]
  },
  {
   "cell_type": "code",
   "execution_count": 22,
   "metadata": {},
   "outputs": [
    {
     "name": "stdout",
     "output_type": "stream",
     "text": [
      "sent otp code on your registered number\n",
      "Welcom PIAIC\n"
     ]
    }
   ],
   "source": [
    "user_name : str = input(\"Enter user id: \\t\") # admin\n",
    "user_passwrod : str = input(\"Enter password:\\t\") # admin\n",
    "\n",
    "\n",
    "if user_name == 'admin' and user_passwrod == 'admin':\n",
    "    print(\"sent otp code on your registered number\")\n",
    "    otp : str = input(\"Please inter otp code:\\t\")\n",
    "    if otp == '123':\n",
    "        print(\"Welcom PIAIC\") \n",
    "else:\n",
    "    print(\"Invalid user or password\") "
   ]
  }
 ],
 "metadata": {
  "kernelspec": {
   "display_name": "python12",
   "language": "python",
   "name": "python3"
  },
  "language_info": {
   "codemirror_mode": {
    "name": "ipython",
    "version": 3
   },
   "file_extension": ".py",
   "mimetype": "text/x-python",
   "name": "python",
   "nbconvert_exporter": "python",
   "pygments_lexer": "ipython3",
   "version": "3.12.0"
  }
 },
 "nbformat": 4,
 "nbformat_minor": 2
}
